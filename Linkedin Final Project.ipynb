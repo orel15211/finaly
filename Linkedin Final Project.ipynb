{
 "cells": [
  {
   "cell_type": "markdown",
   "id": "2f4a28dd",
   "metadata": {
    "tags": []
   },
   "source": [
    "# Final Project - Linkedin\n",
    "\n",
    "## Introduction to Data Analytics 2024\n",
    "### Presented by orel ben naim\n",
    "\n",
    "#### Data source: https://www.kaggle.com/killbot/linkedin-profiles-and-jobs-data\n",
    "#### Our GitHub: https://github.com/orel15211/finaly"
   ]
  },
  {
   "cell_type": "markdown",
   "id": "dc2d5dfd",
   "metadata": {},
   "source": [
    "<img src=\"https://i.pinimg.com/originals/d3/3b/d9/d33bd9baa83a336184055c07dc8ccaa8.gif\" width=700 height=700 align=left />"
   ]
  },
  {
   "cell_type": "markdown",
   "id": "62cb03c0",
   "metadata": {},
   "source": [
    "## I have chosen to analyze LinkedIn, an online social network designed to foster professional and business connections among its users. LinkedIn was established in 2003 and has since become a key tool for professionals in various fields. The platform allows users to create professional profiles, share resumes, showcase skills and achievements, and connect with colleagues, recruiters, and potential employers.\n",
    "\n",
    "## In this project, I examined network data to identify the factors that contribute to effective use of the platform. LinkedIn helps millions of users worldwide by providing them with tools to build professional networks, find job opportunities, and share knowledge and insights in their fields. As a student and future engineer, it is particularly important for me to learn how to utilize LinkedIn optimally to find employment opportunities and build my career in the coming years.\n",
    "\n"
   ]
  },
  {
   "cell_type": "markdown",
   "id": "96c121b6",
   "metadata": {},
   "source": [
    "<img src=\"https://admin.drushim.co.il/Content/Uploads/636670041546219798_84.1.jpg\" width=700 height=700 align=center />"
   ]
  },
  {
   "cell_type": "code",
   "execution_count": null,
   "id": "bb13490c",
   "metadata": {
    "tags": []
   },
   "outputs": [],
   "source": [
    "import pandas as pd\n",
    "import numpy as np\n",
    "import datetime \n",
    "import matplotlib.pyplot as plt\n",
    "import matplotlib.colors as mcolors\n",
    "import seaborn as sns\n",
    "import warnings\n",
    "warnings.filterwarnings(\"ignore\", category=UserWarning, module=\"seaborn.axisgrid\")\n"
   ]
  },
  {
   "cell_type": "code",
   "execution_count": null,
   "id": "357d5168-ee9e-4b2f-ad08-2283020c8a52",
   "metadata": {
    "tags": []
   },
   "outputs": [],
   "source": [
    "url = (\"https://raw.githubusercontent.com/orel15211/finaly/main/Linkedin%20CSV.csv\")"
   ]
  },
  {
   "cell_type": "code",
   "execution_count": null,
   "id": "c6021747",
   "metadata": {
    "tags": []
   },
   "outputs": [],
   "source": [
    "data = pd.read_csv(url)"
   ]
  },
  {
   "cell_type": "markdown",
   "id": "42e1e4ba",
   "metadata": {},
   "source": [
    "# Wrangling data:\n"
   ]
  },
  {
   "cell_type": "markdown",
   "id": "3830ce58",
   "metadata": {},
   "source": [
    "## 1. Handling missing values:"
   ]
  },
  {
   "cell_type": "code",
   "execution_count": null,
   "id": "b3217da9",
   "metadata": {},
   "outputs": [],
   "source": [
    "data=data.dropna(subset =['genderEstimate'])\n",
    "data['hasPicture'].fillna('no picture', inplace = True)\n",
    "data['companyHasLogo'].fillna('no logo', inplace = True)\n",
    "data=data.dropna(subset = ['companyName'])"
   ]
  },
  {
   "cell_type": "markdown",
   "id": "e2f02fa2",
   "metadata": {},
   "source": [
    "#### 1) We removed missing data rows from \"companyName\" and \"genderEstimate\". \n",
    "#### 2) From missing values under \"hasPicture\" and \"companyHasLogo\" we filled \"no picture / logo\"."
   ]
  },
  {
   "cell_type": "code",
   "execution_count": null,
   "id": "fb48b1ca",
   "metadata": {},
   "outputs": [],
   "source": [
    "missing=data[['genderEstimate','hasPicture','companyHasLogo','companyName']].isnull().sum()\n",
    "pd.DataFrame(missing)"
   ]
  },
  {
   "cell_type": "markdown",
   "id": "3fcb5e3c",
   "metadata": {},
   "source": [
    "## 2. Fix columns:"
   ]
  },
  {
   "cell_type": "code",
   "execution_count": null,
   "id": "6ea1faf1",
   "metadata": {},
   "outputs": [],
   "source": [
    "data[['genderEstimate','hasPicture','companyHasLogo','companyName','followersCount','ageEstimate']].info()"
   ]
  },
  {
   "cell_type": "markdown",
   "id": "efb56e42",
   "metadata": {},
   "source": [
    "#### All our Dtypes were correct.\n",
    "## "
   ]
  },
  {
   "cell_type": "markdown",
   "id": "5731a2c2",
   "metadata": {},
   "source": [
    "# What do you think?\n",
    "### Who is more likely to use linkedin?\n",
    "### Male or Female?\n"
   ]
  },
  {
   "cell_type": "markdown",
   "id": "d9894fa2",
   "metadata": {},
   "source": [
    "<img src=\"https://askthescientists.com/wp-content/uploads/2018/04/AdobeStock_62125649.png\" width=700 height=700 align=center />"
   ]
  },
  {
   "cell_type": "code",
   "execution_count": null,
   "id": "4e95b235",
   "metadata": {},
   "outputs": [],
   "source": [
    "plt.figure(figsize=(10, 6))\n",
    "plt.subplot(1,2,1)\n",
    "plt.title(\"Male/Female Percentage\",fontsize=25)\n",
    "plotpie=data['genderEstimate'].value_counts().plot.pie(autopct='%1.1f%%',colors = ['mediumaquamarine', 'plum'],fontsize=15)\n",
    "plt.legend(fontsize=15)\n",
    "plt.subplot(1,2,2)\n",
    "plt.title(\"Male/Female Count\",fontsize=25)\n",
    "plt.xlabel(\"Gender Estimate\",fontsize=20)\n",
    "plt.ylabel(\"Count\",fontsize=20)\n",
    "sns.countplot( x=\"genderEstimate\",data=data , edgecolor = 'black', palette = 'PiYG_r', hue='genderEstimate')\n",
    "plt.show()"
   ]
  },
  {
   "cell_type": "markdown",
   "id": "f3f0319f",
   "metadata": {},
   "source": [
    "## On these charts we can see that there are more male users than females\n",
    "## "
   ]
  },
  {
   "cell_type": "markdown",
   "id": "1c859416",
   "metadata": {},
   "source": [
    "## We would like to examine if there's a connection between Gender and Followers Count"
   ]
  },
  {
   "cell_type": "code",
   "execution_count": null,
   "id": "8d08b66b",
   "metadata": {},
   "outputs": [],
   "source": [
    "plt.figure(figsize=(10, 6))\n",
    "type_df = data[[\"genderEstimate\", \"followersCount\"]]\n",
    "sns.catplot(data=type_df, kind=\"bar\", x=\"genderEstimate\", y = \"followersCount\",height=5,aspect=1,edgecolor = 'black',palette = 'PiYG_r')\n",
    "plt.title(\"Male/Female Followers Count\",fontsize=25)\n",
    "plt.xlabel(\"Gender\",fontsize=20)\n",
    "plt.ylabel(\"Followers Count\",fontsize=20)"
   ]
  },
  {
   "cell_type": "markdown",
   "id": "efdfd4ad",
   "metadata": {},
   "source": [
    "## Although the number of females is significantly lower than the number of males,\n",
    "## Their average followers are close to the average followers of males.\n",
    "## Despite their low number, we can  see that they have a high exposure and number of followers (almost the same as males).\n",
    "## Therefore, it can be assumed that the LinkedIn network is recommended for females.\n",
    "\n",
    "\n",
    "\n",
    "\n",
    "\n",
    "\n",
    "\n"
   ]
  },
  {
   "cell_type": "markdown",
   "id": "e5e4f506",
   "metadata": {},
   "source": [
    "# "
   ]
  },
  {
   "cell_type": "markdown",
   "id": "db9ef13b",
   "metadata": {},
   "source": [
    "## We would like to examine the connection between Logo, Picture and Followers Count"
   ]
  },
  {
   "cell_type": "markdown",
   "id": "159f62ca",
   "metadata": {},
   "source": [
    "<img src=\"https://digitalpedagogydotwordpressdotcom.files.wordpress.com/2020/02/linkedin-4763813_1920.png\" width=600 height=600 align=center />"
   ]
  },
  {
   "cell_type": "code",
   "execution_count": null,
   "id": "593735cf",
   "metadata": {},
   "outputs": [],
   "source": [
    "plt.figure(figsize=(10, 5))\n",
    "data.loc[data['hasPicture'].str.contains('jpg'), 'hasPicture'] = 'has picture'\n",
    "data.loc[data['hasPicture'].str.contains('A'), 'hasPicture'] = 'has picture'\n",
    "data.loc[data['companyHasLogo'].str.contains('png'), 'companyHasLogo'] = 'has logo'\n",
    "data.loc[data['companyHasLogo'].str.contains('jpg'), 'companyHasLogo'] = 'has logo'\n",
    "data.loc[data['companyHasLogo'].str.contains('e'), 'companyHasLogo'] = 'has logo'\n",
    "data.loc[data['companyHasLogo'].str.contains('A'), 'companyHasLogo'] = 'has logo'"
   ]
  },
  {
   "cell_type": "markdown",
   "id": "07ef72b0",
   "metadata": {},
   "source": [
    "### To analyze the data, we replaced values under these columns "
   ]
  },
  {
   "cell_type": "code",
   "execution_count": null,
   "id": "2c01b74e",
   "metadata": {
    "scrolled": true
   },
   "outputs": [],
   "source": [
    "plt.figure(figsize=(15, 4.4))\n",
    "data.groupby(['companyHasLogo','hasPicture'])['followersCount'].count().plot.bar(edgecolor = 'black',color=['mediumvioletred','deeppink', 'hotpink', 'pink'])\n",
    "plt.xticks(rotation=60,fontsize=12)\n",
    "plt.title(\"Logo/Picture effect on Followers Count\",fontsize=22)\n",
    "plt.xlabel(\"Logo vs Picture\",fontsize=15)\n",
    "plt.ylabel(\"Followers Count\",fontsize=15)"
   ]
  },
  {
   "cell_type": "markdown",
   "id": "d064cecd",
   "metadata": {},
   "source": [
    "## The graph clearly shows that users should upload both logo and image.\n",
    "## A logo has a higher impact on the number of followers than an image, and it shows that an image without a logo is less effective.\n",
    "## As you can see, users without logo and image have a significantly lower amount of followers."
   ]
  },
  {
   "cell_type": "code",
   "execution_count": null,
   "id": "bdf774d9",
   "metadata": {},
   "outputs": [],
   "source": [
    "plt.figure(figsize=(10, 5))\n",
    "plt.subplot(1,2,1)\n",
    "plt.title(\"Logo Percentage\",fontsize=30)\n",
    "plotpie=data['companyHasLogo'].value_counts().plot.pie(autopct='%1.2f%%',colors = ['orchid', 'yellow'],fontsize=15)\n",
    "plt.legend(fontsize=15)\n",
    "plt.subplot(1,2,2)\n",
    "plt.title(\"Pictures Percentage\",fontsize=30)\n",
    "plotpie=data['hasPicture'].value_counts().plot.pie(autopct='%1.2f%%',colors = ['orchid', 'turquoise'],fontsize=15)\n",
    "plt.legend(fontsize=15)\n",
    "plt.show()"
   ]
  },
  {
   "cell_type": "markdown",
   "id": "28872dbc",
   "metadata": {},
   "source": [
    "## As you can see, most of the LinkedIn users have logo and picture.\n",
    "## "
   ]
  },
  {
   "cell_type": "markdown",
   "id": "04d995e6",
   "metadata": {},
   "source": [
    "## i would like to examine the connection between Age and Followers Count"
   ]
  },
  {
   "cell_type": "markdown",
   "id": "a6d7695d",
   "metadata": {},
   "source": [
    "<img src=\"https://thumbs.dreamstime.com/b/vector-growing-up-baby-becoming-adolescent-mature-man-elderly-disabled-guy-age-evolution-stages-different-162321909.jpg\" width=900 height=900 align=left />"
   ]
  },
  {
   "cell_type": "code",
   "execution_count": null,
   "id": "105e5a11",
   "metadata": {},
   "outputs": [],
   "source": [
    "age = data['ageEstimate']\n",
    "plt.figure(figsize=(10, 5))\n",
    "bins = range(0, 100, 10)\n",
    "colors = [plt.cm.tab20(i/len(bins)) for i in range(len(bins))]\n",
    "for i in range(len(bins) - 1):\n",
    "    plt.hist(age, bins=[bins[i], bins[i+1]], edgecolor='black', color=colors[i])\n",
    "plt.xticks(range(0, 100, 10))\n",
    "plt.title(\"Followers Count by Age\", fontsize=25)\n",
    "plt.xlabel('Age Estimate', fontsize=20)\n",
    "plt.ylabel('Followers Count', fontsize=20)"
   ]
  },
  {
   "cell_type": "markdown",
   "id": "93d723af",
   "metadata": {},
   "source": [
    "## Base on the above graph, users between the ages of 30 to 50 have the highest number of followers.\n",
    "## i can assume that the high number of followers for this age group is attributed to their  experience and seniority."
   ]
  },
  {
   "cell_type": "code",
   "execution_count": null,
   "id": "0f6932df",
   "metadata": {},
   "outputs": [],
   "source": [
    "maxage=data.groupby('followersCount')[['ageEstimate']].max()\n",
    "maxage.tail()"
   ]
  },
  {
   "cell_type": "markdown",
   "id": "46425773",
   "metadata": {},
   "source": [
    "## As you can see, the LinkedIn users with the highest number of followers are in the 30-50 age group."
   ]
  },
  {
   "cell_type": "markdown",
   "id": "868a83dc",
   "metadata": {},
   "source": [
    "## "
   ]
  },
  {
   "cell_type": "markdown",
   "id": "82e758e0",
   "metadata": {},
   "source": [
    "## In conclusion, in my research i wanted to examine the dependency between the following variables : gender, logo & image, age and followers count.\n",
    "\n",
    "## Our dependent variable is the followers count, and our independent variables are gender, logo & image and age."
   ]
  },
  {
   "cell_type": "markdown",
   "id": "533eb923",
   "metadata": {},
   "source": [
    "<img src=\"https://allstarsdigital.in/wp-content/uploads/2020/09/linkedin_Ads.png\" width=800 height=800 align=center />"
   ]
  },
  {
   "cell_type": "markdown",
   "id": "412ee276",
   "metadata": {},
   "source": [
    "\n",
    "## i found that the most useful ways to use LinkedIn is:\n",
    "## 1. Although the number of females using the network is lower then the number of males, the  followers count percent was almost the same for both.\n",
    "## 2. Using image is importand for user exposure. However, including a logo has a greater impact.\n",
    "## 3. The users with the highest number of followers are in the age group of 30-50 ."
   ]
  },
  {
   "cell_type": "code",
   "execution_count": null,
   "id": "022549b5",
   "metadata": {},
   "outputs": [],
   "source": [
    "maxage=data.groupby('followersCount')[['genderEstimate','hasPicture','companyHasLogo','ageEstimate']].max()\n",
    "maxage.tail()"
   ]
  },
  {
   "cell_type": "markdown",
   "id": "9d5a5fb3",
   "metadata": {},
   "source": [
    "## As you can see, the findings from the table suitable to my expectations.\n"
   ]
  },
  {
   "cell_type": "markdown",
   "id": "995b7d0f",
   "metadata": {},
   "source": [
    "<img src=\"https://www.edigitalagency.com.au/wp-content/uploads/linkedin-logo-gif-funny-man-suitcase.gif\" width=600 height=600 align=center />"
   ]
  },
  {
   "cell_type": "code",
   "execution_count": null,
   "id": "86cb5b65-c431-4d90-9a42-a6a59c9891f2",
   "metadata": {},
   "outputs": [],
   "source": []
  }
 ],
 "metadata": {
  "kernelspec": {
   "display_name": "Python 3 (ipykernel)",
   "language": "python",
   "name": "python3"
  },
  "language_info": {
   "codemirror_mode": {
    "name": "ipython",
    "version": 3
   },
   "file_extension": ".py",
   "mimetype": "text/x-python",
   "name": "python",
   "nbconvert_exporter": "python",
   "pygments_lexer": "ipython3",
   "version": "3.11.5"
  }
 },
 "nbformat": 4,
 "nbformat_minor": 5
}
